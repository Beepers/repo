{
 "cells": [
  {
   "cell_type": "code",
   "execution_count": null,
   "metadata": {
    "collapsed": false,
    "deletable": true,
    "editable": true
   },
   "outputs": [],
   "source": [
    "from pydub import AudioSegment\n",
    "sound = AudioSegment.from_mp3(\"/media/radial/Work/BDAP/Project/Beep/Audio/GOT/ASOIAF - Book 1 - A Game of Thrones - 00 - Prologue.mp3\")\n",
    "sound.export(\"/media/radial/Work/BDAP/Project/Beep/Audio/GOT/Book1-00.wav\", format=\"wav\")"
   ]
  },
  {
   "cell_type": "code",
   "execution_count": null,
   "metadata": {
    "collapsed": false,
    "deletable": true,
    "editable": true
   },
   "outputs": [],
   "source": [
    "from pydub import AudioSegment\n",
    "from os import rename, listdir\n",
    "for filename in os.listdir(\"/media/radial/Work/BDAP/Project/Beep/Audio/GOT_mp3\"):\n",
    "    if \"ello\" in str(filename):\n",
    "        parts = str(filename).split(\" \")\n",
    "print(parts)"
   ]
  },
  {
   "cell_type": "code",
   "execution_count": null,
   "metadata": {
    "collapsed": false,
    "deletable": true,
    "editable": true
   },
   "outputs": [],
   "source": [
    "for filename in os.listdir(\"/media/radial/Work/BDAP/Project/Beep/Audio/GOT_mp3\"):\n",
    "    if \"ello\" in str(filename):\n",
    "        x = str(parts[0]+\" \"+parts[-1]+\"!\")\n",
    "        print(x)\n",
    "        #os.rename(filename, parts[0])"
   ]
  },
  {
   "cell_type": "code",
   "execution_count": null,
   "metadata": {
    "collapsed": false,
    "deletable": true,
    "editable": true,
    "scrolled": true
   },
   "outputs": [],
   "source": [
    "#book 1 replacement\n",
    "dir  = \"/media/radial/Work/BDAP/Project/Beep/Audio/Got_test/\"\n",
    "for filename in os.listdir(\"/media/radial/Work/BDAP/Project/Beep/Audio/GOT_mp3/\"):\n",
    "    if \"Thrones\" in filename:\n",
    "        x = filename[9:16] +\" \"+ filename[38:40]+\".mp3\"\n",
    "        os.rename(dir+filename,dir+x)"
   ]
  },
  {
   "cell_type": "code",
   "execution_count": null,
   "metadata": {
    "collapsed": false,
    "deletable": true,
    "editable": true
   },
   "outputs": [],
   "source": [
    "#book 2 replacement\n",
    "dirto  = \"/media/radial/Work/BDAP/Project/Beep/Audio/Got_test/\"\n",
    "dirfrom = \"/media/radial/Work/BDAP/Project/Beep/Audio/GOT_mp3/\"\n",
    "for filename in os.listdir(\"/media/radial/Work/BDAP/Project/Beep/Audio/GOT_mp3/\"):\n",
    "    if \"Clash\" in filename:\n",
    "        #print(filename[12:18] +\" \"+ filename[40:42]+\".mp3\")\n",
    "        x = filename[12:18] +\" \"+ filename[40:42]+\".mp3\"\n",
    "        os.rename(dirfrom+filename,dirto+x)"
   ]
  },
  {
   "cell_type": "code",
   "execution_count": null,
   "metadata": {
    "collapsed": false,
    "deletable": true,
    "editable": true
   },
   "outputs": [],
   "source": [
    "#book 3 replacement\n",
    "dirto  = \"/media/radial/Work/BDAP/Project/Beep/Audio/Got_test/\"\n",
    "dirfrom = \"/media/radial/Work/BDAP/Project/Beep/Audio/GOT_mp3/\"\n",
    "for filename in os.listdir(\"/media/radial/Work/BDAP/Project/Beep/Audio/GOT_mp3/\"):\n",
    "    if \"Swords\" in filename:\n",
    "        #print(filename[12:18] +\" \"+ filename[41:43]+\".mp3\")\n",
    "        x = filename[12:18] +\" \"+ filename[41:43]+\".mp3\"\n",
    "        os.rename(dirfrom+filename,dirto+x)"
   ]
  },
  {
   "cell_type": "code",
   "execution_count": null,
   "metadata": {
    "collapsed": false,
    "deletable": true,
    "editable": true
   },
   "outputs": [],
   "source": [
    "#book 4 replacement\n",
    "dirto  = \"/media/radial/Work/BDAP/Project/Beep/Audio/Got_test/\"\n",
    "dirfrom = \"/media/radial/Work/BDAP/Project/Beep/Audio/GOT_mp3/\"\n",
    "for filename in os.listdir(\"/media/radial/Work/BDAP/Project/Beep/Audio/GOT_mp3/\"):\n",
    "    if \"Crows\" in filename:\n",
    "        #print(filename[9:15] +\" \"+ filename[38:41]+\".mp3\")\n",
    "        x = filename[9:15] +\" \"+ filename[38:41]+\".mp3\"\n",
    "        os.rename(dirfrom+filename,dirto+x)"
   ]
  },
  {
   "cell_type": "code",
   "execution_count": null,
   "metadata": {
    "collapsed": false,
    "deletable": true,
    "editable": true
   },
   "outputs": [],
   "source": [
    "#book 5 replacement\n",
    "dirto  = \"/media/radial/Work/BDAP/Project/Beep/Audio/Got_test/\"\n",
    "dirfrom = \"/media/radial/Work/BDAP/Project/Beep/Audio/GOT_mp3/\"\n",
    "for filename in os.listdir(\"/media/radial/Work/BDAP/Project/Beep/Audio/GOT_mp3/\"):\n",
    "    if \"Dance\" in filename:\n",
    "        print(filename[11:18] +\" \"+ filename[44:46]+\".mp3\")\n",
    "        #x = filename[11:18] +\" \"+ filename[44:46]+\".mp3\"\n",
    "        #os.rename(dirfrom+filename,dirto+x)"
   ]
  },
  {
   "cell_type": "code",
   "execution_count": null,
   "metadata": {
    "collapsed": false,
    "deletable": true,
    "editable": true
   },
   "outputs": [],
   "source": [
    "#book 5 replacement, small chage\n",
    "dirto  = \"/media/radial/Work/BDAP/Project/Beep/Audio/Got_test/\"\n",
    "dirfrom = \"/media/radial/Work/BDAP/Project/Beep/Audio/Got_test/\"\n",
    "for filename in os.listdir(dirto):\n",
    "    if \"Book 5\" in filename:\n",
    "        #print(filename[1:]+\".mp3\")\n",
    "        x = filename[1:]+\".mp3\"\n",
    "        os.rename(dirfrom+filename,dirto+x)"
   ]
  },
  {
   "cell_type": "code",
   "execution_count": null,
   "metadata": {
    "collapsed": false,
    "deletable": true,
    "editable": true
   },
   "outputs": [],
   "source": [
    "# book 1 to wav\n",
    "dirto  = \"/media/radial/Work/BDAP/Project/Beep/Audio/Got_test/\"\n",
    "for filename in os.listdir(dirto):\n",
    "#for i in range(345):\n",
    "    book = \"Book 1\"\n",
    "    if(book in filename):\n",
    "        #print(filename)\n",
    "        sound = AudioSegment.from_mp3(\"/media/radial/Work/BDAP/Project/Beep/Audio/Got_test/{}\".format(filename))\n",
    "        sound.export(\"/media/radial/Work/BDAP/Project/Beep/Audio/GOT_wav/{}\".format(filename[:-4]+\".wav\"), format=\"wav\")"
   ]
  },
  {
   "cell_type": "code",
   "execution_count": null,
   "metadata": {
    "collapsed": true,
    "deletable": true,
    "editable": true
   },
   "outputs": [],
   "source": [
    "# book 2 to wav\n",
    "\n",
    "dirto  = \"/media/radial/Work/BDAP/Project/Beep/Audio/Got_test/\"\n",
    "for filename in os.listdir(dirto):\n",
    "#for i in range(345):\n",
    "    book = \"Book 2\"\n",
    "    if(book in filename):\n",
    "        #print(filename)\n",
    "        sound = AudioSegment.from_mp3(\"/media/radial/Work/BDAP/Project/Beep/Audio/Got_test/{}\".format(filename))\n",
    "        sound.export(\"/media/radial/Work/BDAP/Project/Beep/Audio/GOT_wav/{}\".format(filename[:-4]+\".wav\"), format=\"wav\")"
   ]
  },
  {
   "cell_type": "code",
   "execution_count": null,
   "metadata": {
    "collapsed": false,
    "deletable": true,
    "editable": true
   },
   "outputs": [],
   "source": [
    "# book 3 to wav\n",
    "import os\n",
    "from pydub import AudioSegment\n",
    "dirto  = \"/media/radial/Work/BDAP/Project/Beep/Audio/Got_test/\"\n",
    "for filename in os.listdir(dirto):\n",
    "#for i in range(345):\n",
    "    book = \"Book 3\"\n",
    "    if(book in filename):\n",
    "        #print(filename)\n",
    "        sound = AudioSegment.from_mp3(\"/media/radial/Work/BDAP/Project/Beep/Audio/Got_test/{}\".format(filename))\n",
    "        sound.export(\"/media/radial/Work/BDAP/Project/Beep/Audio/GOT_wav/{}\".format(filename[:-4]+\".wav\"), format=\"wav\")"
   ]
  },
  {
   "cell_type": "code",
   "execution_count": null,
   "metadata": {
    "collapsed": true,
    "deletable": true,
    "editable": true
   },
   "outputs": [],
   "source": [
    "# book 4 to wav\n",
    "dirto  = \"/media/radial/Work/BDAP/Project/Beep/Audio/Got_test/\"\n",
    "for filename in os.listdir(dirto):\n",
    "#for i in range(345):\n",
    "    book = \"Book 4\"\n",
    "    if(book in filename):\n",
    "        #print(filename)\n",
    "        sound = AudioSegment.from_mp3(\"/media/radial/Work/BDAP/Project/Beep/Audio/Got_test/{}\".format(filename))\n",
    "        sound.export(\"/media/radial/Work/BDAP/Project/Beep/Audio/GOT_wav/{}\".format(filename[:-4]+\".wav\"), format=\"wav\")"
   ]
  },
  {
   "cell_type": "code",
   "execution_count": null,
   "metadata": {
    "collapsed": true,
    "deletable": true,
    "editable": true
   },
   "outputs": [],
   "source": [
    "# book 5 to wav\n",
    "dirto  = \"/media/radial/Work/BDAP/Project/Beep/Audio/Got_test/\"\n",
    "for filename in os.listdir(dirto):\n",
    "#for i in range(345):\n",
    "    book = \"Book 5\"\n",
    "    if(book in filename):\n",
    "        #print(filename)\n",
    "        sound = AudioSegment.from_mp3(\"/media/radial/Work/BDAP/Project/Beep/Audio/Got_test/{}\".format(filename))\n",
    "        sound.export(\"/media/radial/Work/BDAP/Project/Beep/Audio/GOT_wav/{}\".format(filename[:-4]+\".wav\"), format=\"wav\")"
   ]
  },
  {
   "cell_type": "code",
   "execution_count": null,
   "metadata": {
    "collapsed": false,
    "deletable": true,
    "editable": true
   },
   "outputs": [],
   "source": [
    "#book 5 , small chage\n",
    "dirto  = \"/media/radial/Work/BDAP/Project/Beep/Audio/GOT_wav/\"\n",
    "dirfrom = \"/media/radial/Work/BDAP/Project/Beep/Audio/GOT_wav/\"\n",
    "for filename in os.listdir(dirto):\n",
    "    if \"Book 5\" in filename:\n",
    "        #print(filename[:10]+\"wav\")\n",
    "        x = filename[:10]+\"wav\"\n",
    "        os.rename(dirfrom+filename,dirto+x)"
   ]
  },
  {
   "cell_type": "code",
   "execution_count": 5,
   "metadata": {
    "collapsed": false,
    "deletable": true,
    "editable": true
   },
   "outputs": [
    {
     "data": {
      "text/plain": [
       "13"
      ]
     },
     "execution_count": 5,
     "metadata": {},
     "output_type": "execute_result"
    }
   ],
   "source": [
    "import numpy as np\n",
    "\n",
    "\n",
    "from python_speech_features import mfcc\n",
    "\n",
    "\n",
    "#psf.mfcc(\"/media/radial/Work/BDAP/Project/Beep/Audio/GOT_wav/Book 3 29.wav\")\n",
    "import scipy.io.wavfile as wav\n",
    "#(rate,sig) = wav.read(\"/media/radial/Work/BDAP/Project/Beep/Audio/GOT_wav/Book 3 29.wav\")\n",
    "(rate,sig) = wav.read(\"/media/radial/Work/BDAP/Project/Beep/Audio/Wav/omfg-hello.wav\")\n",
    "mfcc_feat = mfcc(sig,rate)\n",
    "len(mfcc_feat)\n",
    "len(mfcc_feat[0])"
   ]
  },
  {
   "cell_type": "code",
   "execution_count": null,
   "metadata": {
    "collapsed": false,
    "deletable": true,
    "editable": true
   },
   "outputs": [],
   "source": [
    "mfcc_feat.shape"
   ]
  },
  {
   "cell_type": "code",
   "execution_count": null,
   "metadata": {
    "collapsed": true,
    "deletable": true,
    "editable": true
   },
   "outputs": [],
   "source": [
    "?mfcc"
   ]
  },
  {
   "cell_type": "code",
   "execution_count": null,
   "metadata": {
    "collapsed": false,
    "deletable": true,
    "editable": true
   },
   "outputs": [],
   "source": [
    "\n",
    "mfcc0 = np.load(\"/media/radial/Work/BDAP/Project/Beep/Codes/GITHUB_tensorflow_CTC_example-master/sample_data/mfcc/0.npy\", encoding = 'latin1')\n",
    "\n",
    "char_y0 = np.load(\"/media/radial/Work/BDAP/Project/Beep/Codes/GITHUB_tensorflow_CTC_example-master/sample_data/char_y/0.npy\", encoding = 'latin1')\n",
    "mfcc0.shape\n"
   ]
  },
  {
   "cell_type": "code",
   "execution_count": null,
   "metadata": {
    "collapsed": false,
    "deletable": true,
    "editable": true
   },
   "outputs": [],
   "source": [
    "len(char_y0)"
   ]
  },
  {
   "cell_type": "code",
   "execution_count": null,
   "metadata": {
    "collapsed": false,
    "deletable": true,
    "editable": true
   },
   "outputs": [],
   "source": [
    "(rate,sig) = wav.read(\"/media/radial/Work/BDAP/Project/Beep/Audio/GOT_wav/Book 1  25.wav\")\n",
    "mfcc_feat = mfcc(sig,rate)\n",
    "len(mfcc_feat)"
   ]
  },
  {
   "cell_type": "code",
   "execution_count": null,
   "metadata": {
    "collapsed": false,
    "deletable": true,
    "editable": true
   },
   "outputs": [],
   "source": [
    "mfcc_feat.shape"
   ]
  },
  {
   "cell_type": "code",
   "execution_count": null,
   "metadata": {
    "collapsed": false,
    "deletable": true,
    "editable": true
   },
   "outputs": [],
   "source": [
    "import matplotlib.pyplot as plt\n",
    "%matplotlib inline\n",
    "plt.plot(mfcc_feat)"
   ]
  },
  {
   "cell_type": "code",
   "execution_count": null,
   "metadata": {
    "collapsed": false,
    "deletable": true,
    "editable": true
   },
   "outputs": [],
   "source": [
    "mfcc_feat.shape"
   ]
  },
  {
   "cell_type": "code",
   "execution_count": null,
   "metadata": {
    "collapsed": true,
    "deletable": true,
    "editable": true
   },
   "outputs": [],
   "source": [
    "np.save(\"/media/radial/Work/BDAP/Project/Beep/Data/Book 1  25\",mfcc_feat)"
   ]
  },
  {
   "cell_type": "code",
   "execution_count": null,
   "metadata": {
    "collapsed": false,
    "deletable": true,
    "editable": true
   },
   "outputs": [],
   "source": [
    "import os\n",
    "d = []\n",
    "for dirname, dirnames, filenames in os.walk('/media/radial/Work/BDAP/Project/Beep/Audio/GOT_wav'):\n",
    "    # print path to all filenames.\n",
    "    for filename in filenames:\n",
    "        d.append((os.path.join(dirname, filename)[-14:-4]).strip(\"/\").strip(\" \"))\n",
    "d"
   ]
  },
  {
   "cell_type": "code",
   "execution_count": null,
   "metadata": {
    "collapsed": false,
    "deletable": true,
    "editable": true
   },
   "outputs": [],
   "source": [
    "import os\n",
    "for dirname, dirnames, filenames in os.walk('/media/radial/Work/BDAP/Project/Beep/Audio/GOT_wav'):\n",
    "    # print path to all filenames.\n",
    "    for filename in filenames:\n",
    "        #d.append((os.path.join(dirname, filename)[-14:-4]).strip(\"/\").strip(\" \"))\n",
    "        (rate,sig) = wav.read(\"/media/radial/Work/BDAP/Project/Beep/Audio/GOT_wav/\"+filename)\n",
    "        mfcc_feat = mfcc(sig,rate)\n",
    "        print(len(mfcc_feat))\n",
    "        np.save(\"/media/radial/Work/BDAP/Project/Beep/Data/{}\".format(filename),mfcc_feat)"
   ]
  },
  {
   "cell_type": "code",
   "execution_count": 9,
   "metadata": {
    "collapsed": false,
    "deletable": true,
    "editable": true
   },
   "outputs": [
    {
     "name": "stdout",
     "output_type": "stream",
     "text": [
      "(146967, 13)\n",
      "(112395, 13)\n",
      "(77720, 13)\n",
      "(162238, 13)\n",
      "(144031, 13)\n",
      "(119769, 13)\n",
      "(133691, 13)\n",
      "(102319, 13)\n",
      "(136722, 13)\n",
      "(82591, 13)\n",
      "(79328, 13)\n",
      "(161035, 13)\n",
      "(128657, 13)\n",
      "(148061, 13)\n",
      "(154689, 13)\n",
      "(193245, 13)\n",
      "(68521, 13)\n",
      "(163201, 13)\n",
      "(199738, 13)\n",
      "(198053, 13)\n",
      "(172496, 13)\n",
      "(156124, 13)\n",
      "(175932, 13)\n",
      "(191946, 13)\n",
      "(138086, 13)\n",
      "(188445, 13)\n",
      "(158651, 13)\n",
      "(142332, 13)\n",
      "(176287, 13)\n",
      "(289684, 13)\n",
      "(207416, 13)\n",
      "(121568, 13)\n",
      "(96764, 13)\n",
      "(154504, 13)\n",
      "(198409, 13)\n",
      "(210712, 13)\n",
      "(97375, 13)\n",
      "(193852, 13)\n",
      "(120573, 13)\n",
      "(145621, 13)\n",
      "(145304, 13)\n",
      "(113481, 13)\n",
      "(127877, 13)\n",
      "(183938, 13)\n",
      "(210573, 13)\n",
      "(123079, 13)\n",
      "(88178, 13)\n",
      "(176753, 13)\n",
      "(247354, 13)\n",
      "(226771, 13)\n",
      "(185931, 13)\n",
      "(162222, 13)\n",
      "(144722, 13)\n",
      "(157804, 13)\n",
      "(215106, 13)\n",
      "(217107, 13)\n",
      "(155856, 13)\n",
      "(294105, 13)\n",
      "(123160, 13)\n",
      "(222249, 13)\n",
      "(204161, 13)\n",
      "(173462, 13)\n",
      "(149888, 13)\n",
      "(182585, 13)\n",
      "(143549, 13)\n",
      "(193814, 13)\n",
      "(198166, 13)\n",
      "(155967, 13)\n",
      "(93685, 13)\n",
      "(290091, 13)\n",
      "(140236, 13)\n"
     ]
    }
   ],
   "source": [
    "import os\n",
    "for dirname, dirnames, filenames in os.walk('/media/radial/Work/BDAP/Project/Beep/Data/'):\n",
    "    # print path to all filenames.\n",
    "    for filename in filenames:\n",
    "        print((np.load('/media/radial/Work/BDAP/Project/Beep/Data/'+filename)).shape)"
   ]
  },
  {
   "cell_type": "code",
   "execution_count": 27,
   "metadata": {
    "collapsed": true
   },
   "outputs": [],
   "source": [
    "import os\n",
    "d = []\n",
    "for dirname, dirnames, filenames in os.walk('/media/radial/Work/BDAP/Project/Beep/Data/'):\n",
    "    # print path to all filenames.\n",
    "    for filename in filenames:\n",
    "        d.append(np.load('/media/radial/Work/BDAP/Project/Beep/Data/'+filename))"
   ]
  },
  {
   "cell_type": "code",
   "execution_count": 28,
   "metadata": {
    "collapsed": false
   },
   "outputs": [
    {
     "data": {
      "text/plain": [
       "73"
      ]
     },
     "execution_count": 28,
     "metadata": {},
     "output_type": "execute_result"
    }
   ],
   "source": [
    "len(d)"
   ]
  },
  {
   "cell_type": "code",
   "execution_count": 29,
   "metadata": {
    "collapsed": false
   },
   "outputs": [
    {
     "data": {
      "text/plain": [
       "(146967, 13)"
      ]
     },
     "execution_count": 29,
     "metadata": {},
     "output_type": "execute_result"
    }
   ],
   "source": [
    "d[0].shape"
   ]
  },
  {
   "cell_type": "code",
   "execution_count": 30,
   "metadata": {
    "collapsed": false
   },
   "outputs": [
    {
     "data": {
      "text/plain": [
       "(13,)"
      ]
     },
     "execution_count": 30,
     "metadata": {},
     "output_type": "execute_result"
    }
   ],
   "source": [
    "d[0][0].shape"
   ]
  },
  {
   "cell_type": "code",
   "execution_count": 32,
   "metadata": {
    "collapsed": false
   },
   "outputs": [
    {
     "data": {
      "text/plain": [
       "array([[ 11.72863594, -30.10643815,   3.09882132, ...,  11.55346737,\n",
       "          0.26831244,  -1.77141373],\n",
       "       [ 11.79561327, -30.5860142 ,   2.41726399, ...,   1.26217248,\n",
       "          3.73730818,  -0.22636838],\n",
       "       [ 11.78007083, -34.01914694,   0.06957868, ...,  -0.54274017,\n",
       "          6.53564965,   3.85906019],\n",
       "       ..., \n",
       "       [ 11.76090973, -32.43315398,   1.38154241, ...,  12.39846188,\n",
       "          8.985028  ,  10.36174998],\n",
       "       [ 11.77675158, -30.58307487,   2.07430203, ...,  12.22766741,\n",
       "         11.42036097,   8.26303581],\n",
       "       [ 11.73238942, -29.89716309,   2.03329032, ...,   5.51772589,\n",
       "          5.21057509,   5.55156041]])"
      ]
     },
     "execution_count": 32,
     "metadata": {},
     "output_type": "execute_result"
    }
   ],
   "source": [
    "oo = np.load('/media/radial/Work/BDAP/Project/Beep/Data/Book 1  00.wav.npy')\n",
    "oo"
   ]
  },
  {
   "cell_type": "code",
   "execution_count": null,
   "metadata": {
    "collapsed": true
   },
   "outputs": [],
   "source": []
  }
 ],
 "metadata": {
  "kernelspec": {
   "display_name": "Python [conda root]",
   "language": "python",
   "name": "conda-root-py"
  },
  "language_info": {
   "codemirror_mode": {
    "name": "ipython",
    "version": 3
   },
   "file_extension": ".py",
   "mimetype": "text/x-python",
   "name": "python",
   "nbconvert_exporter": "python",
   "pygments_lexer": "ipython3",
   "version": "3.5.2"
  }
 },
 "nbformat": 4,
 "nbformat_minor": 2
}
