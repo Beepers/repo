{
 "cells": [
  {
   "cell_type": "code",
   "execution_count": 65,
   "metadata": {
    "collapsed": false
   },
   "outputs": [],
   "source": [
    "from tkinter import *\n",
    "master = Tk()"
   ]
  },
  {
   "cell_type": "code",
   "execution_count": 66,
   "metadata": {
    "collapsed": true
   },
   "outputs": [],
   "source": [
    "def browsecsv():\n",
    "        from tkinter.filedialog import askopenfilename\n",
    "        Tk().withdraw() \n",
    "        filename = askopenfilename()"
   ]
  },
  {
   "cell_type": "code",
   "execution_count": 67,
   "metadata": {
    "collapsed": false
   },
   "outputs": [],
   "source": [
    "from threading import Thread\n",
    "import pyglet\n",
    "\n",
    "player = pyglet.media.Player()\n",
    "music_file = pyglet.media.load(\"/media/radial/Work/BDAP/Project/Beep/Plan B/beeped output/beeped_version.wav\")\n",
    "\n",
    "def startPlaying():\n",
    "    player.queue(music_file)\n",
    "    player.play()\n",
    "    pyglet.app.run()\n",
    "\n",
    "def playSound():\n",
    "    global sound_thread \n",
    "    sound_thread = Thread(target=startPlaying)\n",
    "    sound_thread.start()"
   ]
  },
  {
   "cell_type": "markdown",
   "metadata": {
    "collapsed": true
   },
   "source": [
    "def callback():\n",
    "    exec(open(\"/media/radial/Work/BDAP/Project/Beep/Plan B/COdes/Audio+to+json+to+Df.py\").read())\n",
    "\n",
    "browsebutton = Button(master, text='Browse', command=browsecsv)\n",
    "beeper = Button(master, text=\"Click to beep!\", command=callback)\n",
    "browsebutton.pack()\n",
    "beeper.pack()\n",
    "master.mainloop()"
   ]
  },
  {
   "cell_type": "code",
   "execution_count": 68,
   "metadata": {
    "collapsed": false
   },
   "outputs": [],
   "source": [
    "browsebutton = Button(master, text='Browse', command=browsecsv)\n",
    "beeper = Button(master, text=\"Click to beep!\", command=callback)\n",
    "play = Button(master, text = \"Play the beeped version\", command = playSound)\n",
    "browsebutton.pack()\n",
    "beeper.pack()\n",
    "play.pack()\n",
    "master.mainloop()"
   ]
  },
  {
   "cell_type": "code",
   "execution_count": null,
   "metadata": {
    "collapsed": true
   },
   "outputs": [],
   "source": []
  }
 ],
 "metadata": {
  "kernelspec": {
   "display_name": "Python 3",
   "language": "python",
   "name": "python3"
  },
  "language_info": {
   "codemirror_mode": {
    "name": "ipython",
    "version": 3
   },
   "file_extension": ".py",
   "mimetype": "text/x-python",
   "name": "python",
   "nbconvert_exporter": "python",
   "pygments_lexer": "ipython3",
   "version": "3.6.0"
  }
 },
 "nbformat": 4,
 "nbformat_minor": 2
}
